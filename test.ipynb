{
 "cells": [
  {
   "cell_type": "code",
   "execution_count": 1,
   "metadata": {},
   "outputs": [],
   "source": [
    "# Imports\n",
    "import pandas as pd\n",
    "import matplotlib.pyplot as plt"
   ]
  },
  {
   "cell_type": "code",
   "execution_count": 2,
   "metadata": {},
   "outputs": [],
   "source": [
    "# Loading\n",
    "df = pd.read_csv(\"./sample_data/data_jobs.csv\")"
   ]
  },
  {
   "cell_type": "code",
   "execution_count": 3,
   "metadata": {},
   "outputs": [],
   "source": [
    "# Cleanup\n",
    "df[\"job_posted_date\"] = pd.to_datetime(df[\"job_posted_date\"])"
   ]
  },
  {
   "cell_type": "code",
   "execution_count": 23,
   "metadata": {},
   "outputs": [
    {
     "data": {
      "text/html": [
       "<div>\n",
       "<style scoped>\n",
       "    .dataframe tbody tr th:only-of-type {\n",
       "        vertical-align: middle;\n",
       "    }\n",
       "\n",
       "    .dataframe tbody tr th {\n",
       "        vertical-align: top;\n",
       "    }\n",
       "\n",
       "    .dataframe thead th {\n",
       "        text-align: right;\n",
       "    }\n",
       "</style>\n",
       "<table border=\"1\" class=\"dataframe\">\n",
       "  <thead>\n",
       "    <tr style=\"text-align: right;\">\n",
       "      <th>job_title_short</th>\n",
       "      <th>Data Analyst</th>\n",
       "      <th>Data Engineer</th>\n",
       "      <th>Data Scientist</th>\n",
       "    </tr>\n",
       "    <tr>\n",
       "      <th>job_country</th>\n",
       "      <th></th>\n",
       "      <th></th>\n",
       "      <th></th>\n",
       "    </tr>\n",
       "  </thead>\n",
       "  <tbody>\n",
       "    <tr>\n",
       "      <th>United States</th>\n",
       "      <td>90000.0</td>\n",
       "      <td>125000.0</td>\n",
       "      <td>130000.0</td>\n",
       "    </tr>\n",
       "    <tr>\n",
       "      <th>India</th>\n",
       "      <td>100500.0</td>\n",
       "      <td>147500.0</td>\n",
       "      <td>114008.0</td>\n",
       "    </tr>\n",
       "    <tr>\n",
       "      <th>United Kingdom</th>\n",
       "      <td>87750.0</td>\n",
       "      <td>110000.0</td>\n",
       "      <td>105300.0</td>\n",
       "    </tr>\n",
       "    <tr>\n",
       "      <th>France</th>\n",
       "      <td>69175.0</td>\n",
       "      <td>98301.5</td>\n",
       "      <td>88128.0</td>\n",
       "    </tr>\n",
       "    <tr>\n",
       "      <th>Germany</th>\n",
       "      <td>103750.0</td>\n",
       "      <td>147500.0</td>\n",
       "      <td>131560.0</td>\n",
       "    </tr>\n",
       "    <tr>\n",
       "      <th>Spain</th>\n",
       "      <td>91977.0</td>\n",
       "      <td>133000.0</td>\n",
       "      <td>88128.0</td>\n",
       "    </tr>\n",
       "    <tr>\n",
       "      <th>Singapore</th>\n",
       "      <td>99500.0</td>\n",
       "      <td>98301.5</td>\n",
       "      <td>131560.0</td>\n",
       "    </tr>\n",
       "    <tr>\n",
       "      <th>Sudan</th>\n",
       "      <td>87500.0</td>\n",
       "      <td>127500.0</td>\n",
       "      <td>130000.0</td>\n",
       "    </tr>\n",
       "    <tr>\n",
       "      <th>Netherlands</th>\n",
       "      <td>93852.0</td>\n",
       "      <td>97444.0</td>\n",
       "      <td>157500.0</td>\n",
       "    </tr>\n",
       "    <tr>\n",
       "      <th>Italy</th>\n",
       "      <td>53014.0</td>\n",
       "      <td>97444.0</td>\n",
       "      <td>88614.0</td>\n",
       "    </tr>\n",
       "  </tbody>\n",
       "</table>\n",
       "</div>"
      ],
      "text/plain": [
       "job_title_short  Data Analyst  Data Engineer  Data Scientist\n",
       "job_country                                                 \n",
       "United States         90000.0       125000.0        130000.0\n",
       "India                100500.0       147500.0        114008.0\n",
       "United Kingdom        87750.0       110000.0        105300.0\n",
       "France                69175.0        98301.5         88128.0\n",
       "Germany              103750.0       147500.0        131560.0\n",
       "Spain                 91977.0       133000.0         88128.0\n",
       "Singapore             99500.0        98301.5        131560.0\n",
       "Sudan                 87500.0       127500.0        130000.0\n",
       "Netherlands           93852.0        97444.0        157500.0\n",
       "Italy                 53014.0        97444.0         88614.0"
      ]
     },
     "execution_count": 23,
     "metadata": {},
     "output_type": "execute_result"
    }
   ],
   "source": [
    "top_countries = df[\"job_country\"].value_counts().head(10).index\n",
    "\n",
    "df_job_country_salary = df.pivot_table(\n",
    "    values=\"salary_year_avg\",\n",
    "    index=\"job_country\",\n",
    "    columns=\"job_title_short\",\n",
    "    aggfunc=\"median\",\n",
    ")\n",
    "\n",
    "df_job_country_salary = df_job_country_salary.loc[top_countries]\n",
    "\n",
    "job_titles = [\"Data Analyst\", \"Data Engineer\", \"Data Scientist\"]\n",
    "\n",
    "df_job_country_salary = df_job_country_salary[job_titles]\n",
    "\n",
    "df_job_country_salary"
   ]
  }
 ],
 "metadata": {
  "kernelspec": {
   "display_name": ".venv",
   "language": "python",
   "name": "python3"
  },
  "language_info": {
   "codemirror_mode": {
    "name": "ipython",
    "version": 3
   },
   "file_extension": ".py",
   "mimetype": "text/x-python",
   "name": "python",
   "nbconvert_exporter": "python",
   "pygments_lexer": "ipython3",
   "version": "3.12.4"
  }
 },
 "nbformat": 4,
 "nbformat_minor": 2
}
