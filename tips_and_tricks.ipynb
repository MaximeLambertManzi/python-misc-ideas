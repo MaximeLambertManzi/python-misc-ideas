{
 "cells": [
  {
   "cell_type": "markdown",
   "metadata": {},
   "source": [
    "# Tips and Tricks\n",
    "\n",
    "- **[1. Map, Filter and Reduce](#1-Map-Filter-and-Reduce)**\n",
    "- **[2. Ternary Operators](#2-Ternary-Operators)**\n",
    "- **[3. Convolution](#3-Convolution)**\n",
    "- **[4. Collections](#4-Collections)**\n",
    "    - [4.1. defaultdict](#41-defaultdict)\n",
    "    - [4.2. Counter](#42-Counter)\n",
    "    - [4.3. deque](#43-deque)\n",
    "    - [4.4. namedtuple](#44-namedtuple)\n",
    "- **[5. Zip and unzip](#5-Zip-and-unzip)**\n",
    "- **[6. Comprehensions](#6-Comprehensions)**\n",
    "- **[7. Lambda functions](#7-Lambda-functions)**\n",
    "- **[8. Assignment expressions](#8-Assignment-expressions)**\n",
    "- **[9. for/else](#9-for/else)**"
   ]
  },
  {
   "cell_type": "code",
   "execution_count": 1,
   "metadata": {},
   "outputs": [],
   "source": [
    "import numpy as np\n",
    "import pandas as pd\n",
    "import matplotlib.pyplot as plt"
   ]
  },
  {
   "cell_type": "markdown",
   "metadata": {},
   "source": [
    "## 1. Map, Filter and Reduce\n",
    "\n",
    "The `map()` function is a higher-order function. This function accepts another function and a sequence of iterables as parameters and provides output after applying the function to each iterable in the sequence."
   ]
  },
  {
   "cell_type": "code",
   "execution_count": 2,
   "metadata": {},
   "outputs": [
    {
     "name": "stdout",
     "output_type": "stream",
     "text": [
      "<map object at 0x0000019409AC89D0>\n",
      "[1, 4, 9, 16]\n"
     ]
    }
   ],
   "source": [
    "def function(a):\n",
    "    return a * a\n",
    "\n",
    "\n",
    "x = map(function, (1, 2, 3, 4))\n",
    "print(x)  # x is the map object\n",
    "print(list(x))  # transform it to see it"
   ]
  },
  {
   "cell_type": "code",
   "execution_count": 3,
   "metadata": {},
   "outputs": [
    {
     "data": {
      "text/plain": [
       "[1, 4, 9, 16, 25]"
      ]
     },
     "execution_count": 3,
     "metadata": {},
     "output_type": "execute_result"
    }
   ],
   "source": [
    "items = [1, 2, 3, 4, 5]\n",
    "squared = map(lambda x: x**2, items)  # works with lambda functions\n",
    "list(squared)"
   ]
  },
  {
   "cell_type": "code",
   "execution_count": 4,
   "metadata": {},
   "outputs": [
    {
     "name": "stdout",
     "output_type": "stream",
     "text": [
      "[0, 0]\n",
      "[1, 2]\n",
      "[4, 4]\n",
      "[9, 6]\n",
      "[16, 8]\n"
     ]
    }
   ],
   "source": [
    "def multiply(x):\n",
    "    return x * x\n",
    "\n",
    "\n",
    "def add(x):\n",
    "    return x + x\n",
    "\n",
    "\n",
    "funcs = [multiply, add]\n",
    "for i in range(5):\n",
    "    value = list(map(lambda x: x(i), funcs))  # iterable consisting of functions\n",
    "    print(value)"
   ]
  },
  {
   "cell_type": "markdown",
   "metadata": {},
   "source": [
    "The `filter()` function is used to generate an output list of values that return true when the function is called."
   ]
  },
  {
   "cell_type": "code",
   "execution_count": 5,
   "metadata": {},
   "outputs": [
    {
     "name": "stdout",
     "output_type": "stream",
     "text": [
      "<filter object at 0x000001941A90DBD0>\n",
      "[3, 4]\n"
     ]
    }
   ],
   "source": [
    "def func(x):\n",
    "    if x >= 3:\n",
    "        return x\n",
    "\n",
    "\n",
    "y = filter(func, (1, 2, 3, 4))\n",
    "print(y)  # y is the filter object\n",
    "print(list(y))"
   ]
  },
  {
   "cell_type": "code",
   "execution_count": 6,
   "metadata": {},
   "outputs": [
    {
     "name": "stdout",
     "output_type": "stream",
     "text": [
      "[-5, -4, -3, -2, -1]\n"
     ]
    }
   ],
   "source": [
    "number_list = range(-5, 5)\n",
    "\n",
    "# works with lambda functions\n",
    "less_than_zero = filter(lambda x: x < 0, number_list)\n",
    "\n",
    "print(list(less_than_zero))"
   ]
  },
  {
   "cell_type": "markdown",
   "metadata": {},
   "source": [
    "The `reduce()` function applies a provided function to ‘iterables’ and returns a single value, as the name implies."
   ]
  },
  {
   "cell_type": "code",
   "execution_count": 7,
   "metadata": {},
   "outputs": [
    {
     "data": {
      "text/plain": [
       "187"
      ]
     },
     "execution_count": 7,
     "metadata": {},
     "output_type": "execute_result"
    }
   ],
   "source": [
    "from functools import reduce\n",
    "\n",
    "reduce(lambda a, b: a + b, [23, 21, 45, 98])"
   ]
  },
  {
   "cell_type": "markdown",
   "metadata": {},
   "source": [
    "## 2. Ternary Operators\n",
    "\n",
    "Ternary operators are more commonly known as conditional expressions in Python. These operators evaluate something based on a condition being true or not.  \n",
    "  \n",
    "It allows to quickly test a condition instead of a multiline if statement and can be nested."
   ]
  },
  {
   "cell_type": "code",
   "execution_count": 8,
   "metadata": {},
   "outputs": [
    {
     "name": "stdout",
     "output_type": "stream",
     "text": [
      "b is greater than a\n"
     ]
    }
   ],
   "source": [
    "a = 10\n",
    "b = 20\n",
    "\n",
    "print(\n",
    "    \"Both values are equal\"\n",
    "    if a == b\n",
    "    else (\"a is greater than b\" if a > b else \"b is greater than a\")\n",
    ")"
   ]
  },
  {
   "cell_type": "markdown",
   "metadata": {},
   "source": [
    "## 3. Convolution\n",
    "\n",
    "We can use convolution to smooth a curve with moving average."
   ]
  },
  {
   "cell_type": "code",
   "execution_count": 9,
   "metadata": {},
   "outputs": [
    {
     "data": {
      "text/plain": [
       "(-1.0, 25.0)"
      ]
     },
     "execution_count": 9,
     "metadata": {},
     "output_type": "execute_result"
    },
    {
     "data": {
      "image/png": "[encoded data removed]",
      "text/plain": [
       "<Figure size 640x480 with 1 Axes>"
      ]
     },
     "metadata": {},
     "output_type": "display_data"
    }
   ],
   "source": [
    "# Function to smooth\n",
    "f1 = np.array(\n",
    "    [\n",
    "        0.1,\n",
    "        0.1,\n",
    "        0.1,\n",
    "        0.1,\n",
    "        0.1,\n",
    "        1,\n",
    "        1,\n",
    "        1,\n",
    "        1,\n",
    "        1,\n",
    "        0.1,\n",
    "        0.1,\n",
    "        0.1,\n",
    "        0.1,\n",
    "        0.1,\n",
    "        1,\n",
    "        1,\n",
    "        1,\n",
    "        1,\n",
    "        1,\n",
    "        0.1,\n",
    "        0.1,\n",
    "        0.1,\n",
    "        0.1,\n",
    "        0.1,\n",
    "    ]\n",
    ")\n",
    "\n",
    "# plt.step(np.arange(0, len(f1)), a)\n",
    "plt.bar(np.arange(0, len(f1)), f1)\n",
    "plt.ylim(ymin=0)\n",
    "plt.xlim(xmin=-1, xmax=25)"
   ]
  },
  {
   "cell_type": "code",
   "execution_count": 10,
   "metadata": {},
   "outputs": [
    {
     "data": {
      "text/plain": [
       "<Axes: >"
      ]
     },
     "execution_count": 10,
     "metadata": {},
     "output_type": "execute_result"
    },
    {
     "data": {
      "image/png": "[encoded data removed]",
      "text/plain": [
       "<Figure size 640x480 with 1 Axes>"
      ]
     },
     "metadata": {},
     "output_type": "display_data"
    }
   ],
   "source": [
    "f1_df = pd.DataFrame(f1)\n",
    "\n",
    "# Rolling average with the pandas function\n",
    "f1_smoothed = f1_df.rolling(window=4, min_periods=1).mean()\n",
    "f1_smoothed[3:].plot(kind=\"bar\", legend=False)"
   ]
  },
  {
   "cell_type": "code",
   "execution_count": 11,
   "metadata": {},
   "outputs": [
    {
     "data": {
      "text/plain": [
       "array([0.25, 0.25, 0.25, 0.25])"
      ]
     },
     "execution_count": 11,
     "metadata": {},
     "output_type": "execute_result"
    }
   ],
   "source": [
    "# Bin 1 in x parts (here 4), x being the window of the rolling average\n",
    "f2 = np.repeat(1 / 4, 4)\n",
    "f2"
   ]
  },
  {
   "cell_type": "code",
   "execution_count": 12,
   "metadata": {},
   "outputs": [
    {
     "data": {
      "text/plain": [
       "<BarContainer object of 22 artists>"
      ]
     },
     "execution_count": 12,
     "metadata": {},
     "output_type": "execute_result"
    },
    {
     "data": {
      "image/png": "[encoded data removed]",
      "text/plain": [
       "<Figure size 640x480 with 1 Axes>"
      ]
     },
     "metadata": {},
     "output_type": "display_data"
    }
   ],
   "source": [
    "# Convolve with f2 to do rolling average\n",
    "convolution = np.convolve(f1, f2, \"valid\")\n",
    "plt.bar(np.arange(0, len(convolution)), convolution)"
   ]
  },
  {
   "cell_type": "markdown",
   "metadata": {},
   "source": [
    "## 4. Collections\n",
    "\n",
    "Several useful data types in the collections module."
   ]
  },
  {
   "cell_type": "markdown",
   "metadata": {},
   "source": [
    "### 4.1. defaultdict\n",
    "\n",
    "Create a `dict` with a default value."
   ]
  },
  {
   "cell_type": "code",
   "execution_count": 13,
   "metadata": {},
   "outputs": [
    {
     "data": {
      "text/plain": [
       "defaultdict(list,\n",
       "            {'Pierre': ['Yellow', 'Red'],\n",
       "             'Paul': ['Blue', 'Black'],\n",
       "             'Jacques': ['Green', 'Silver']})"
      ]
     },
     "execution_count": 13,
     "metadata": {},
     "output_type": "execute_result"
    }
   ],
   "source": [
    "from collections import defaultdict\n",
    "\n",
    "colours = (\n",
    "    (\"Pierre\", \"Yellow\"),\n",
    "    (\"Paul\", \"Blue\"),\n",
    "    (\"Jacques\", \"Green\"),\n",
    "    (\"Paul\", \"Black\"),\n",
    "    (\"Pierre\", \"Red\"),\n",
    "    (\"Jacques\", \"Silver\"),\n",
    ")\n",
    "# A list will become the default value\n",
    "favourite_colours = defaultdict(list)\n",
    "\n",
    "# When name is not a key, a list will be created as a default value\n",
    "# for that key\n",
    "# Since the value is an array we can append colour\n",
    "for name, colour in colours:\n",
    "    favourite_colours[name].append(colour)\n",
    "\n",
    "favourite_colours"
   ]
  },
  {
   "cell_type": "markdown",
   "metadata": {},
   "source": [
    "### 4.2. Counter\n",
    "\n",
    "Count the occurence of an item."
   ]
  },
  {
   "cell_type": "code",
   "execution_count": 14,
   "metadata": {},
   "outputs": [
    {
     "name": "stdout",
     "output_type": "stream",
     "text": [
      "Counter({'a': 2, 'b': 1, 'c': 1})\n",
      "Counter({'Pierre': 2, 'Paul': 2, 'Jacques': 1, 'Jean': 1})\n",
      "Counter({'Yellow': 2, 'Blue': 1, 'Green': 1, 'Black': 1, 'Red': 1})\n"
     ]
    }
   ],
   "source": [
    "from collections import Counter\n",
    "\n",
    "test = [\"a\", \"b\", \"c\", \"a\"]\n",
    "print(Counter(test))\n",
    "\n",
    "colours = (\n",
    "    (\"Pierre\", \"Yellow\"),\n",
    "    (\"Paul\", \"Blue\"),\n",
    "    (\"Jacques\", \"Green\"),\n",
    "    (\"Paul\", \"Black\"),\n",
    "    (\"Pierre\", \"Red\"),\n",
    "    (\"Jean\", \"Yellow\"),\n",
    ")\n",
    "\n",
    "# Can count from a written generator\n",
    "favs = Counter(name for name, colour in colours)\n",
    "fav_colours = Counter(colour for name, colour in colours)\n",
    "print(favs)\n",
    "print(fav_colours)\n",
    "\n",
    "# Same thing as doing the classic loop:\n",
    "# res = dict()\n",
    "# for name, colour in colours:\n",
    "#     if name not in res.keys():\n",
    "#         res[name] = 1\n",
    "#     else:\n",
    "#         res[name] += 1\n",
    "\n",
    "# print(res)\n",
    "\n",
    "# Same thing with defaultdict:\n",
    "# from collections import defaultdict\n",
    "# res = defaultdict(lambda: 0)\n",
    "# for name, colour in colours:\n",
    "#         res[name] += 1\n",
    "#\n",
    "# print(res)"
   ]
  },
  {
   "cell_type": "markdown",
   "metadata": {},
   "source": [
    "### 4.3. deque\n",
    "\n",
    "`deque` provides you with a double ended queue which means that you can append and delete elements from either side of the queue."
   ]
  },
  {
   "cell_type": "code",
   "execution_count": 15,
   "metadata": {},
   "outputs": [
    {
     "name": "stdout",
     "output_type": "stream",
     "text": [
      "deque(['9', '1', '2', '3'])\n",
      "deque(['1', '2', '3'])\n",
      "deque(['1', '2'])\n"
     ]
    }
   ],
   "source": [
    "from collections import deque\n",
    "\n",
    "d = deque()\n",
    "\n",
    "d.append(\"1\")\n",
    "d.append(\"2\")\n",
    "d.append(\"3\")\n",
    "d.appendleft(\"9\")\n",
    "\n",
    "print(d)\n",
    "\n",
    "d.popleft()\n",
    "\n",
    "print(d)\n",
    "\n",
    "d.pop()\n",
    "\n",
    "print(d)"
   ]
  },
  {
   "cell_type": "code",
   "execution_count": 16,
   "metadata": {},
   "outputs": [
    {
     "name": "stdout",
     "output_type": "stream",
     "text": [
      "deque([0, 1, 2, 3, 5], maxlen=5)\n",
      "deque([2, 3, 5, 6, 7], maxlen=5)\n",
      "deque([9, 8, 2, 3, 5], maxlen=5)\n"
     ]
    }
   ],
   "source": [
    "# When size is fixed, values are pushed othello style\n",
    "d = deque([0, 1, 2, 3, 5], maxlen=5)\n",
    "print(d)\n",
    "\n",
    "d.extend([6, 7])\n",
    "print(d)\n",
    "\n",
    "# Be careful of the order\n",
    "d.extendleft([8, 9])\n",
    "print(d)"
   ]
  },
  {
   "cell_type": "markdown",
   "metadata": {},
   "source": [
    "### 4.4. namedtuple\n",
    "\n",
    "Create sort of a mini Class, just like an **immutable** `dict`."
   ]
  },
  {
   "cell_type": "code",
   "execution_count": 17,
   "metadata": {},
   "outputs": [
    {
     "name": "stdout",
     "output_type": "stream",
     "text": [
      "Animal(name='perry', age=31, type='cat')\n",
      "perry\n"
     ]
    }
   ],
   "source": [
    "from collections import namedtuple\n",
    "\n",
    "Animal = namedtuple(\"Animal\", \"name age type\")\n",
    "perry = Animal(name=\"perry\", age=31, type=\"cat\")\n",
    "\n",
    "print(perry)\n",
    "\n",
    "print(perry.name)"
   ]
  },
  {
   "cell_type": "code",
   "execution_count": 18,
   "metadata": {},
   "outputs": [
    {
     "name": "stdout",
     "output_type": "stream",
     "text": [
      "{'name': 'perry', 'age': 31, 'type': 'cat'}\n"
     ]
    }
   ],
   "source": [
    "# You can also transform it into a dict\n",
    "perry_dict = perry._asdict()\n",
    "\n",
    "print(perry_dict)"
   ]
  },
  {
   "cell_type": "markdown",
   "metadata": {},
   "source": [
    "## 5. Zip and unzip\n",
    "\n",
    "`Zip()` is a useful function that allows you to combine two lists easily.\n",
    "\n",
    "After calling zip, an iterator is returned. In order to see the content wrapped inside, we need to first convert it to a list."
   ]
  },
  {
   "cell_type": "code",
   "execution_count": 19,
   "metadata": {},
   "outputs": [
    {
     "data": {
      "text/plain": [
       "[('Joe', 'Schmoe', 23),\n",
       " ('Earnst', 'Ehlmann', 65),\n",
       " ('Thomas', 'Fischer', 11),\n",
       " ('Martin', 'Walter', 36),\n",
       " ('Charles', 'Rogan', 83)]"
      ]
     },
     "execution_count": 19,
     "metadata": {},
     "output_type": "execute_result"
    }
   ],
   "source": [
    "first_name = [\"Joe\", \"Earnst\", \"Thomas\", \"Martin\", \"Charles\"]\n",
    "last_name = [\"Schmoe\", \"Ehlmann\", \"Fischer\", \"Walter\", \"Rogan\", \"Green\"]\n",
    "age = [23, 65, 11, 36, 83]\n",
    "\n",
    "zipped_list = list(zip(first_name, last_name, age))\n",
    "zipped_list"
   ]
  },
  {
   "cell_type": "code",
   "execution_count": 20,
   "metadata": {},
   "outputs": [
    {
     "name": "stdout",
     "output_type": "stream",
     "text": [
      "Joe Schmoe is 23 years old\n",
      "Earnst Ehlmann is 65 years old\n",
      "Thomas Fischer is 11 years old\n",
      "Martin Walter is 36 years old\n",
      "Charles Rogan is 83 years old\n"
     ]
    }
   ],
   "source": [
    "for first_name, last_name, age in zipped_list:\n",
    "    print(f\"{first_name} {last_name} is {age} years old\")"
   ]
  },
  {
   "cell_type": "code",
   "execution_count": 21,
   "metadata": {},
   "outputs": [
    {
     "name": "stdout",
     "output_type": "stream",
     "text": [
      "('Joe', 'Earnst', 'Thomas', 'Martin', 'Charles')\n",
      "('Schmoe', 'Ehlmann', 'Fischer', 'Walter', 'Rogan')\n",
      "(23, 65, 11, 36, 83)\n"
     ]
    }
   ],
   "source": [
    "# We can unzip with the operator \"*\"\n",
    "name_unzipped, last_name_unzipped, age_unzipped = zip(*zipped_list)\n",
    "print(name_unzipped)\n",
    "print(last_name_unzipped)\n",
    "print(age_unzipped)"
   ]
  },
  {
   "cell_type": "markdown",
   "metadata": {},
   "source": [
    "## 6. Comprehensions\n",
    "\n",
    "Comprehensions are constructs that allow sequences to be built from other sequences."
   ]
  },
  {
   "cell_type": "code",
   "execution_count": 22,
   "metadata": {},
   "outputs": [
    {
     "name": "stdout",
     "output_type": "stream",
     "text": [
      "[0, 4, 16, 36, 64]\n",
      "{0, 64, 4, 36, 16}\n",
      "{0: True, 1: False, 2: True, 3: False, 4: True, 5: False}\n",
      "<generator object <genexpr> at 0x000001941CC735E0>\n"
     ]
    },
    {
     "data": {
      "text/plain": [
       "(0, 4, 16, 36, 64)"
      ]
     },
     "execution_count": 22,
     "metadata": {},
     "output_type": "execute_result"
    }
   ],
   "source": [
    "# It uses that form:\n",
    "# variable = [expression(element) for element in input_list if condition]\n",
    "\n",
    "# Can be a list\n",
    "squared_even_list = [x**2 for x in range(10) if (x**2) % 2 == 0]\n",
    "print(squared_even_list)\n",
    "\n",
    "# Or a set\n",
    "squared_even_set = {x**2 for x in range(10) if (x**2) % 2 == 0}\n",
    "print(squared_even_set)\n",
    "\n",
    "# Or a dict\n",
    "value_even = {v: True if v % 2 == 0 else False for v in range(6)}\n",
    "print(value_even)\n",
    "\n",
    "# Or a generator\n",
    "squared_even_generator = (x**2 for x in range(10) if x ** 2 % 2 == 0)\n",
    "print(squared_even_generator)\n",
    "\n",
    "# You can then make it a tuple\n",
    "tuple(squared_even_generator)"
   ]
  },
  {
   "cell_type": "markdown",
   "metadata": {},
   "source": [
    "## 7. Lambda functions\n",
    "\n",
    "They are known as anonymous functions. They are just like normal functions and behave like them."
   ]
  },
  {
   "cell_type": "code",
   "execution_count": 23,
   "metadata": {},
   "outputs": [
    {
     "name": "stdout",
     "output_type": "stream",
     "text": [
      "original list : [(1, 2), (9, 10), (4, 1), (13, -3)]\n",
      "sort by the first element : [(1, 2), (4, 1), (9, 10), (13, -3)]\n",
      "sort by the second element : [(13, -3), (4, 1), (1, 2), (9, 10)]\n"
     ]
    }
   ],
   "source": [
    "# It uses that form:\n",
    "# lambda argument: manipulate(argument)\n",
    "\n",
    "test_list = [(1, 2), (9, 10), (4, 1), (13, -3)]\n",
    "print(f\"original list : {test_list}\")\n",
    "\n",
    "# list.sort() is in-place while sorted() create a new list\n",
    "# key argument gives a function to apply to each elements before the sort\n",
    "\n",
    "# To sort by the first element in each pair your can use:\n",
    "res1 = sorted(test_list, key=lambda x: x[0])\n",
    "# To sort by the second element in each pair your can use:\n",
    "res2 = sorted(test_list, key=lambda x: x[1])\n",
    "\n",
    "print(f\"sort by the first element : {res1}\")\n",
    "print(f\"sort by the second element : {res2}\")"
   ]
  },
  {
   "cell_type": "markdown",
   "metadata": {},
   "source": [
    "## 8. Assignment expressions\n",
    "\n",
    "In certain situation, it is easier to use assignment expressions (`:=`) instead of the classic assignment statement (`=`)."
   ]
  },
  {
   "cell_type": "code",
   "execution_count": 24,
   "metadata": {},
   "outputs": [
    {
     "name": "stdout",
     "output_type": "stream",
     "text": [
      "The original list is: [1, 2, 7, 5, 9, 6, 11, 13, 15]\n",
      "The output list is: [121, 169, 225]\n",
      "The output list is: [121, 169, 225]\n"
     ]
    }
   ],
   "source": [
    "my_list = [1, 2, 7, 5, 9, 6, 11, 13, 15]\n",
    "print(\"The original list is:\", my_list)\n",
    "\n",
    "# Classic way compute **2 two times\n",
    "new_list = [i**2 for i in my_list if i**2 >= 100]\n",
    "print(\"The output list is:\", new_list)\n",
    "\n",
    "# Assignment expression way save a computation\n",
    "new_list2 = [j for i in my_list if (j := i**2) >= 100]\n",
    "print(\"The output list is:\", new_list2)\n",
    "\n",
    "# With while loop, the syntax can also be easier to understand\n",
    "#\n",
    "# Classic way:\n",
    "# command = input(\"> \")\n",
    "# while command != \"quit\":\n",
    "#     print(\"You entered:\", command)\n",
    "#     command = input(\"> \")\n",
    "#\n",
    "# Assignment expression way:\n",
    "# while (command := input(\"> \")) != \"quit\":\n",
    "#     print(\"You entered:\", command)"
   ]
  },
  {
   "cell_type": "markdown",
   "metadata": {},
   "source": [
    "## 9. for/else\n",
    "\n",
    "The else keyword in a for loop specifies a block of code to be executed when the loop is finished."
   ]
  },
  {
   "cell_type": "code",
   "execution_count": 25,
   "metadata": {},
   "outputs": [
    {
     "name": "stdout",
     "output_type": "stream",
     "text": [
      "2 is a prime number\n",
      "3 is a prime number\n",
      "4 equals 2 * 2.0\n",
      "5 is a prime number\n",
      "6 equals 2 * 3.0\n",
      "7 is a prime number\n",
      "8 equals 2 * 4.0\n",
      "9 equals 3 * 3.0\n"
     ]
    }
   ],
   "source": [
    "for n in range(2, 10):\n",
    "    for x in range(2, n):\n",
    "        if n % x == 0:\n",
    "            print(n, \"equals\", x, \"*\", n / x)\n",
    "            break\n",
    "    else:\n",
    "        # loop fell through without finding a factor\n",
    "        print(n, \"is a prime number\")"
   ]
  }
 ],
 "metadata": {
  "kernelspec": {
   "display_name": ".venv",
   "language": "python",
   "name": "python3"
  },
  "language_info": {
   "codemirror_mode": {
    "name": "ipython",
    "version": 3
   },
   "file_extension": ".py",
   "mimetype": "text/x-python",
   "name": "python",
   "nbconvert_exporter": "python",
   "pygments_lexer": "ipython3",
   "version": "3.12.4"
  }
 },
 "nbformat": 4,
 "nbformat_minor": 2
}
