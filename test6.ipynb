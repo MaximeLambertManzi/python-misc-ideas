{
 "cells": [
  {
   "cell_type": "code",
   "execution_count": 15,
   "metadata": {},
   "outputs": [],
   "source": [
    "# Imports\n",
    "import pandas as pd\n",
    "import matplotlib.pyplot as plt\n",
    "import seaborn as sns\n",
    "import ast\n",
    "\n",
    "# Loading\n",
    "df = pd.read_csv(\"./sample_data/data_jobs.csv\")"
   ]
  },
  {
   "cell_type": "code",
   "execution_count": 16,
   "metadata": {},
   "outputs": [],
   "source": [
    "# Cleanup\n",
    "df[\"job_posted_date\"] = pd.to_datetime(df[\"job_posted_date\"])\n",
    "df[\"job_skills\"] = df[\"job_skills\"].apply(lambda x: ast.literal_eval(x) if pd.notna(x) else x)"
   ]
  },
  {
   "cell_type": "code",
   "execution_count": 17,
   "metadata": {},
   "outputs": [],
   "source": [
    "df = df[df[\"job_title_short\"] == \"Data Analyst\"]"
   ]
  },
  {
   "cell_type": "code",
   "execution_count": 18,
   "metadata": {},
   "outputs": [],
   "source": [
    "df_exploded = df.explode(\"job_skills\").copy()"
   ]
  },
  {
   "cell_type": "code",
   "execution_count": 22,
   "metadata": {},
   "outputs": [],
   "source": [
    "df_exploded = df_exploded.groupby(by=\"job_skills\").agg(\n",
    "    {\n",
    "        \n",
    "        \"job_skills\":\"count\",\n",
    "        \"salary_year_avg\":\"median\"        \n",
    "        \n",
    "        \n",
    "    }\n",
    "    \n",
    "    \n",
    ")"
   ]
  },
  {
   "cell_type": "code",
   "execution_count": 29,
   "metadata": {},
   "outputs": [],
   "source": [
    "df_exploded = df_exploded.rename(columns={\"job_skills\":\"skill_count\", \"salary_year_avg\":\"median_salary\"})"
   ]
  },
  {
   "cell_type": "code",
   "execution_count": 35,
   "metadata": {},
   "outputs": [],
   "source": [
    "skills_stat = df_exploded.sort_values(\"skill_count\",ascending=False).head(10)"
   ]
  },
  {
   "cell_type": "code",
   "execution_count": 36,
   "metadata": {},
   "outputs": [
    {
     "data": {
      "text/html": [
       "<div>\n",
       "<style scoped>\n",
       "    .dataframe tbody tr th:only-of-type {\n",
       "        vertical-align: middle;\n",
       "    }\n",
       "\n",
       "    .dataframe tbody tr th {\n",
       "        vertical-align: top;\n",
       "    }\n",
       "\n",
       "    .dataframe thead th {\n",
       "        text-align: right;\n",
       "    }\n",
       "</style>\n",
       "<table border=\"1\" class=\"dataframe\">\n",
       "  <thead>\n",
       "    <tr style=\"text-align: right;\">\n",
       "      <th></th>\n",
       "      <th>skill_count</th>\n",
       "      <th>median_salary</th>\n",
       "    </tr>\n",
       "    <tr>\n",
       "      <th>job_skills</th>\n",
       "      <th></th>\n",
       "      <th></th>\n",
       "    </tr>\n",
       "  </thead>\n",
       "  <tbody>\n",
       "    <tr>\n",
       "      <th>sql</th>\n",
       "      <td>92428</td>\n",
       "      <td>92500.0</td>\n",
       "    </tr>\n",
       "    <tr>\n",
       "      <th>excel</th>\n",
       "      <td>66860</td>\n",
       "      <td>84479.0</td>\n",
       "    </tr>\n",
       "    <tr>\n",
       "      <th>python</th>\n",
       "      <td>57190</td>\n",
       "      <td>98500.0</td>\n",
       "    </tr>\n",
       "    <tr>\n",
       "      <th>tableau</th>\n",
       "      <td>46455</td>\n",
       "      <td>95000.0</td>\n",
       "    </tr>\n",
       "    <tr>\n",
       "      <th>power bi</th>\n",
       "      <td>39380</td>\n",
       "      <td>90000.0</td>\n",
       "    </tr>\n",
       "    <tr>\n",
       "      <th>r</th>\n",
       "      <td>29996</td>\n",
       "      <td>92527.5</td>\n",
       "    </tr>\n",
       "    <tr>\n",
       "      <th>sas</th>\n",
       "      <td>27998</td>\n",
       "      <td>90000.0</td>\n",
       "    </tr>\n",
       "    <tr>\n",
       "      <th>powerpoint</th>\n",
       "      <td>13822</td>\n",
       "      <td>85000.0</td>\n",
       "    </tr>\n",
       "    <tr>\n",
       "      <th>word</th>\n",
       "      <td>13562</td>\n",
       "      <td>80000.0</td>\n",
       "    </tr>\n",
       "    <tr>\n",
       "      <th>sap</th>\n",
       "      <td>11280</td>\n",
       "      <td>90000.0</td>\n",
       "    </tr>\n",
       "  </tbody>\n",
       "</table>\n",
       "</div>"
      ],
      "text/plain": [
       "            skill_count  median_salary\n",
       "job_skills                            \n",
       "sql               92428        92500.0\n",
       "excel             66860        84479.0\n",
       "python            57190        98500.0\n",
       "tableau           46455        95000.0\n",
       "power bi          39380        90000.0\n",
       "r                 29996        92527.5\n",
       "sas               27998        90000.0\n",
       "powerpoint        13822        85000.0\n",
       "word              13562        80000.0\n",
       "sap               11280        90000.0"
      ]
     },
     "execution_count": 36,
     "metadata": {},
     "output_type": "execute_result"
    }
   ],
   "source": [
    "skills_stat"
   ]
  },
  {
   "cell_type": "code",
   "execution_count": 39,
   "metadata": {},
   "outputs": [
    {
     "data": {
      "text/plain": [
       "<Axes: xlabel='skill_count', ylabel='median_salary'>"
      ]
     },
     "execution_count": 39,
     "metadata": {},
     "output_type": "execute_result"
    },
    {
     "data": {
      "image/png": "[encoded data removed]",
      "text/plain": [
       "<Figure size 640x480 with 1 Axes>"
      ]
     },
     "metadata": {},
     "output_type": "display_data"
    }
   ],
   "source": [
    "skills_stat.plot(kind=\"scatter\", x=\"skill_count\", y=\"median_salary\")"
   ]
  }
 ],
 "metadata": {
  "kernelspec": {
   "display_name": ".venv",
   "language": "python",
   "name": "python3"
  },
  "language_info": {
   "codemirror_mode": {
    "name": "ipython",
    "version": 3
   },
   "file_extension": ".py",
   "mimetype": "text/x-python",
   "name": "python",
   "nbconvert_exporter": "python",
   "pygments_lexer": "ipython3",
   "version": "3.12.4"
  }
 },
 "nbformat": 4,
 "nbformat_minor": 2
}
